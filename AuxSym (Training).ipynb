{
 "cells": [
  {
   "cell_type": "code",
   "execution_count": 1,
   "id": "6c45c5d9",
   "metadata": {},
   "outputs": [],
   "source": [
    "# Basic\n",
    "import numpy as np\n",
    "import matplotlib.pyplot as plt\n",
    "import scipy.stats as stats\n",
    "import pandas as pd\n",
    "\n",
    "# IO\n",
    "import netCDF4 as nc\n",
    "\n",
    "# PyTorch\n",
    "import torch\n",
    "from torch import nn, optim\n",
    "from torch.utils.data import Dataset, DataLoader, random_split\n",
    "import torch.nn.functional as F\n",
    "from torch.distributions import Uniform\n",
    "from torch.optim.lr_scheduler import ReduceLROnPlateau, OneCycleLR, PolynomialLR\n",
    "\n",
    "# PyTorch-Lightning\n",
    "import pytorch_lightning as pl\n",
    "from pytorch_lightning import Trainer\n",
    "from pytorch_lightning.callbacks.early_stopping import EarlyStopping\n",
    "from pytorch_lightning.callbacks import LearningRateMonitor\n",
    "from pytorch_lightning.loggers import WandbLogger\n",
    "from sklearn.model_selection import train_test_split\n",
    "\n",
    "# Wandb\n",
    "import wandb"
   ]
  },
  {
   "cell_type": "code",
   "execution_count": 2,
   "id": "980e82cb",
   "metadata": {},
   "outputs": [],
   "source": [
    "AVAIL_GPUS = min(1, torch.cuda.device_count())\n",
    "BATCH_SIZE = 256 if AVAIL_GPUS else 64"
   ]
  },
  {
   "cell_type": "code",
   "execution_count": 3,
   "id": "b7b7424a",
   "metadata": {},
   "outputs": [
    {
     "name": "stderr",
     "output_type": "stream",
     "text": [
      "Global seed set to 125\n"
     ]
    },
    {
     "data": {
      "text/plain": [
       "125"
      ]
     },
     "execution_count": 3,
     "metadata": {},
     "output_type": "execute_result"
    }
   ],
   "source": [
    "pl.seed_everything(125)"
   ]
  },
  {
   "cell_type": "code",
   "execution_count": 4,
   "id": "36875f58",
   "metadata": {},
   "outputs": [],
   "source": [
    "data = nc.Dataset(\"data/kepler.nc\").variables\n",
    "keys = data.keys()\n",
    "vals = data.values()\n",
    "\n",
    "data_dict = {}\n",
    "\n",
    "for k, v in zip(keys, vals):\n",
    "    data_dict[k] = np.array(v[:])\n",
    "\n",
    "df = pd.DataFrame(data_dict)"
   ]
  },
  {
   "cell_type": "code",
   "execution_count": 5,
   "id": "bbd3c809",
   "metadata": {},
   "outputs": [
    {
     "data": {
      "text/html": [
       "<div>\n",
       "<style scoped>\n",
       "    .dataframe tbody tr th:only-of-type {\n",
       "        vertical-align: middle;\n",
       "    }\n",
       "\n",
       "    .dataframe tbody tr th {\n",
       "        vertical-align: top;\n",
       "    }\n",
       "\n",
       "    .dataframe thead th {\n",
       "        text-align: right;\n",
       "    }\n",
       "</style>\n",
       "<table border=\"1\" class=\"dataframe\">\n",
       "  <thead>\n",
       "    <tr style=\"text-align: right;\">\n",
       "      <th></th>\n",
       "      <th>t</th>\n",
       "      <th>x</th>\n",
       "      <th>y</th>\n",
       "      <th>vx</th>\n",
       "      <th>vy</th>\n",
       "      <th>E</th>\n",
       "      <th>L</th>\n",
       "      <th>g</th>\n",
       "    </tr>\n",
       "  </thead>\n",
       "  <tbody>\n",
       "    <tr>\n",
       "      <th>0</th>\n",
       "      <td>0.000000</td>\n",
       "      <td>2.919807</td>\n",
       "      <td>-2.386163</td>\n",
       "      <td>-0.582427</td>\n",
       "      <td>0.015088</td>\n",
       "      <td>-0.095470</td>\n",
       "      <td>-1.345712</td>\n",
       "      <td>0</td>\n",
       "    </tr>\n",
       "    <tr>\n",
       "      <th>1</th>\n",
       "      <td>0.009153</td>\n",
       "      <td>2.914474</td>\n",
       "      <td>-2.386024</td>\n",
       "      <td>-0.582926</td>\n",
       "      <td>0.015496</td>\n",
       "      <td>-0.095470</td>\n",
       "      <td>-1.345712</td>\n",
       "      <td>0</td>\n",
       "    </tr>\n",
       "    <tr>\n",
       "      <th>2</th>\n",
       "      <td>0.018306</td>\n",
       "      <td>2.909136</td>\n",
       "      <td>-2.385880</td>\n",
       "      <td>-0.583426</td>\n",
       "      <td>0.015906</td>\n",
       "      <td>-0.095470</td>\n",
       "      <td>-1.345712</td>\n",
       "      <td>0</td>\n",
       "    </tr>\n",
       "    <tr>\n",
       "      <th>3</th>\n",
       "      <td>0.027459</td>\n",
       "      <td>2.903793</td>\n",
       "      <td>-2.385732</td>\n",
       "      <td>-0.583926</td>\n",
       "      <td>0.016316</td>\n",
       "      <td>-0.095470</td>\n",
       "      <td>-1.345712</td>\n",
       "      <td>0</td>\n",
       "    </tr>\n",
       "    <tr>\n",
       "      <th>4</th>\n",
       "      <td>0.036612</td>\n",
       "      <td>2.898447</td>\n",
       "      <td>-2.385581</td>\n",
       "      <td>-0.584427</td>\n",
       "      <td>0.016728</td>\n",
       "      <td>-0.095470</td>\n",
       "      <td>-1.345712</td>\n",
       "      <td>0</td>\n",
       "    </tr>\n",
       "    <tr>\n",
       "      <th>...</th>\n",
       "      <td>...</td>\n",
       "      <td>...</td>\n",
       "      <td>...</td>\n",
       "      <td>...</td>\n",
       "      <td>...</td>\n",
       "      <td>...</td>\n",
       "      <td>...</td>\n",
       "      <td>...</td>\n",
       "    </tr>\n",
       "    <tr>\n",
       "      <th>50003</th>\n",
       "      <td>90.252157</td>\n",
       "      <td>3.218096</td>\n",
       "      <td>-3.962491</td>\n",
       "      <td>0.411937</td>\n",
       "      <td>0.171525</td>\n",
       "      <td>-0.096343</td>\n",
       "      <td>2.184281</td>\n",
       "      <td>4</td>\n",
       "    </tr>\n",
       "    <tr>\n",
       "      <th>50004</th>\n",
       "      <td>90.261185</td>\n",
       "      <td>3.221815</td>\n",
       "      <td>-3.960941</td>\n",
       "      <td>0.411718</td>\n",
       "      <td>0.171794</td>\n",
       "      <td>-0.096343</td>\n",
       "      <td>2.184281</td>\n",
       "      <td>4</td>\n",
       "    </tr>\n",
       "    <tr>\n",
       "      <th>50005</th>\n",
       "      <td>90.270214</td>\n",
       "      <td>3.225531</td>\n",
       "      <td>-3.959389</td>\n",
       "      <td>0.411500</td>\n",
       "      <td>0.172063</td>\n",
       "      <td>-0.096343</td>\n",
       "      <td>2.184281</td>\n",
       "      <td>4</td>\n",
       "    </tr>\n",
       "    <tr>\n",
       "      <th>50006</th>\n",
       "      <td>90.279243</td>\n",
       "      <td>3.229245</td>\n",
       "      <td>-3.957834</td>\n",
       "      <td>0.411281</td>\n",
       "      <td>0.172331</td>\n",
       "      <td>-0.096343</td>\n",
       "      <td>2.184281</td>\n",
       "      <td>4</td>\n",
       "    </tr>\n",
       "    <tr>\n",
       "      <th>50007</th>\n",
       "      <td>90.288272</td>\n",
       "      <td>3.232958</td>\n",
       "      <td>-3.956277</td>\n",
       "      <td>0.411062</td>\n",
       "      <td>0.172599</td>\n",
       "      <td>-0.096343</td>\n",
       "      <td>2.184281</td>\n",
       "      <td>4</td>\n",
       "    </tr>\n",
       "  </tbody>\n",
       "</table>\n",
       "<p>50008 rows × 8 columns</p>\n",
       "</div>"
      ],
      "text/plain": [
       "               t         x         y        vx        vy         E         L  \\\n",
       "0       0.000000  2.919807 -2.386163 -0.582427  0.015088 -0.095470 -1.345712   \n",
       "1       0.009153  2.914474 -2.386024 -0.582926  0.015496 -0.095470 -1.345712   \n",
       "2       0.018306  2.909136 -2.385880 -0.583426  0.015906 -0.095470 -1.345712   \n",
       "3       0.027459  2.903793 -2.385732 -0.583926  0.016316 -0.095470 -1.345712   \n",
       "4       0.036612  2.898447 -2.385581 -0.584427  0.016728 -0.095470 -1.345712   \n",
       "...          ...       ...       ...       ...       ...       ...       ...   \n",
       "50003  90.252157  3.218096 -3.962491  0.411937  0.171525 -0.096343  2.184281   \n",
       "50004  90.261185  3.221815 -3.960941  0.411718  0.171794 -0.096343  2.184281   \n",
       "50005  90.270214  3.225531 -3.959389  0.411500  0.172063 -0.096343  2.184281   \n",
       "50006  90.279243  3.229245 -3.957834  0.411281  0.172331 -0.096343  2.184281   \n",
       "50007  90.288272  3.232958 -3.956277  0.411062  0.172599 -0.096343  2.184281   \n",
       "\n",
       "       g  \n",
       "0      0  \n",
       "1      0  \n",
       "2      0  \n",
       "3      0  \n",
       "4      0  \n",
       "...   ..  \n",
       "50003  4  \n",
       "50004  4  \n",
       "50005  4  \n",
       "50006  4  \n",
       "50007  4  \n",
       "\n",
       "[50008 rows x 8 columns]"
      ]
     },
     "execution_count": 5,
     "metadata": {},
     "output_type": "execute_result"
    }
   ],
   "source": [
    "df"
   ]
  },
  {
   "cell_type": "code",
   "execution_count": 6,
   "id": "063f8c4c",
   "metadata": {},
   "outputs": [
    {
     "data": {
      "text/plain": [
       "array([0, 1, 2, 3, 4], dtype=uint64)"
      ]
     },
     "execution_count": 6,
     "metadata": {},
     "output_type": "execute_result"
    }
   ],
   "source": [
    "groups = np.unique(df.g)\n",
    "groups"
   ]
  },
  {
   "cell_type": "code",
   "execution_count": 7,
   "id": "dcc78f8b",
   "metadata": {},
   "outputs": [],
   "source": [
    "class Kepler2D(Dataset):\n",
    "    def __init__(self, df):\n",
    "        X = df.to_numpy()\n",
    "        self.X = torch.tensor(X[:, 1:-3], dtype=torch.float32)\n",
    "        self.g = torch.tensor(X[:, -1:], dtype=torch.uint8).reshape((-1,1))\n",
    "        self.L = torch.tensor(X[:, -2:-1], dtype=torch.float32).reshape((-1,1))\n",
    "        self.E = torch.tensor(X[:, -3:-2], dtype=torch.float32).reshape((-1,1))\n",
    "        \n",
    "    def __len__(self):\n",
    "        return self.X.shape[0]\n",
    "    \n",
    "    def __getitem__(self, idx):\n",
    "        return self.X[idx], self.g[idx], self.L[idx], self.E[idx]"
   ]
  },
  {
   "cell_type": "code",
   "execution_count": 8,
   "id": "5c4307c2",
   "metadata": {},
   "outputs": [],
   "source": [
    "ds = Kepler2D(df)"
   ]
  },
  {
   "cell_type": "code",
   "execution_count": 9,
   "id": "55d52917",
   "metadata": {},
   "outputs": [
    {
     "data": {
      "text/plain": [
       "50008"
      ]
     },
     "execution_count": 9,
     "metadata": {},
     "output_type": "execute_result"
    }
   ],
   "source": [
    "len(ds)"
   ]
  },
  {
   "cell_type": "code",
   "execution_count": 10,
   "id": "534815f8",
   "metadata": {},
   "outputs": [
    {
     "data": {
      "text/plain": [
       "(tensor([ 2.9198, -2.3862, -0.5824,  0.0151]),\n",
       " tensor([0], dtype=torch.uint8),\n",
       " tensor([-1.3457]),\n",
       " tensor([-0.0955]))"
      ]
     },
     "execution_count": 10,
     "metadata": {},
     "output_type": "execute_result"
    }
   ],
   "source": [
    "ds[0]"
   ]
  },
  {
   "cell_type": "code",
   "execution_count": 11,
   "id": "36582d33",
   "metadata": {},
   "outputs": [],
   "source": [
    "class ASNet(pl.LightningModule):\n",
    "    def __init__(self, hparams=None):\n",
    "        super().__init__()\n",
    "        \n",
    "        self.h1_n  = hparams[\"hidden_layer_1_nodes\"]\n",
    "        self.h1_d  = hparams[\"hidden_layer_1_depth\"]\n",
    "        self.h2_n  = hparams[\"hidden_layer_2_nodes\"]\n",
    "        self.h2_d  = hparams[\"hidden_layer_2_depth\"]\n",
    "        self.lr    = hparams[\"learning_rate\"]\n",
    "        self.batch = hparams[\"batch_size\"]\n",
    "        self.epoch = hparams[\"epoch\"]\n",
    "#         self.gamma = hparams[\"gamma\"]\n",
    "        \n",
    "        E_vec = torch.tensor(hparams[\"E_init\"], dtype=torch.float32)\n",
    "        L_vec = torch.tensor(hparams[\"L_init\"], dtype=torch.float32)\n",
    "        \n",
    "        self.E = nn.Parameter(E_vec, requires_grad=True)\n",
    "        self.L = nn.Parameter(L_vec, requires_grad=True)\n",
    "        self.group = len(self.E)\n",
    "        \n",
    "        assert(self.group == len(self.L))\n",
    "        \n",
    "        h1 = [\n",
    "            nn.Linear(4, self.h1_n),\n",
    "            nn.ReLU(inplace=True),\n",
    "            nn.BatchNorm1d(self.h1_n)\n",
    "        ]\n",
    "        \n",
    "        for i in range(self.h1_d):\n",
    "            h1.extend([\n",
    "                nn.Linear(self.h1_n, self.h1_n),\n",
    "                nn.ReLU(inplace=True),\n",
    "                nn.BatchNorm1d(self.h1_n)\n",
    "            ])\n",
    "            \n",
    "        h1.append(nn.Linear(self.h1_n, 3)) # E, L, theta\n",
    "        \n",
    "        h2 = [\n",
    "            nn.Linear(3, self.h2_n),\n",
    "            nn.ReLU(inplace=True),\n",
    "            nn.BatchNorm1d(self.h2_n)\n",
    "        ]\n",
    "        \n",
    "        for i in range(self.h2_d):\n",
    "            h2.extend([\n",
    "                nn.Linear(self.h2_n, self.h2_n),\n",
    "                nn.ReLU(inplace=True),\n",
    "                nn.BatchNorm1d(self.h2_n)\n",
    "            ])\n",
    "        \n",
    "        h2.append(nn.Linear(self.h2_n, 1))\n",
    "        \n",
    "        self.net1 = nn.Sequential(*h1)\n",
    "        self.net2 = nn.Sequential(*h2)\n",
    "        \n",
    "        self.save_hyperparameters(hparams)\n",
    "        \n",
    "        self.ds = None\n",
    "        \n",
    "    def _forward_features(self, x):\n",
    "        x = self.net1(x)\n",
    "        return x\n",
    "    \n",
    "    def forward(self, x):\n",
    "        x = self._forward_features(x)\n",
    "        return self.net2(x)\n",
    "    \n",
    "    def training_step(self, batch, batch_idx):\n",
    "        # Decompose Batch\n",
    "        X, g, _, _ = batch\n",
    "        x  = X[:,0:1]\n",
    "        y  = X[:,1:2]\n",
    "        vx = X[:,2:3]\n",
    "        vy = X[:,3:4]\n",
    "        \n",
    "        # Decompose First Output\n",
    "        ELTh = self._forward_features(X)\n",
    "        E    = ELTh[:,0:1]\n",
    "        L    = ELTh[:,1:2]\n",
    "        Th   = ELTh[:,2:3]\n",
    "        \n",
    "        # Obtain group indices\n",
    "        g_ics_vec = [g == i for i in range(self.group)]\n",
    "        \n",
    "        E_aux = torch.ones_like(E)\n",
    "        L_aux = torch.ones_like(L)\n",
    "        \n",
    "        for (g_ics, E_a, L_a) in zip(g_ics_vec, self.E, self.L):\n",
    "            E_aux[g_ics[:,0]] *= E_a\n",
    "            L_aux[g_ics[:,0]] *= L_a\n",
    "        \n",
    "        # Reconstruct position\n",
    "        R     = self.net2(ELTh)\n",
    "        x_hat = R * torch.cos(Th)\n",
    "        y_hat = R * torch.sin(Th)\n",
    "        \n",
    "#         # KL Divergence of original & reconstruct\n",
    "#         kl_loss = nn.KLDivLoss(log_target=True, reduction='batchmean')\n",
    "#         loss_x = kl_loss(F.log_softmax(x_hat), F.softmax(x))\n",
    "#         loss_y = kl_loss(F.log_softmax(y_hat), F.softmax(y))\n",
    "#         loss_E = kl_loss(F.log_softmax(E_aux), F.softmax(E))\n",
    "#         loss_L = kl_loss(F.log_softmax(L_aux), F.softmax(L))\n",
    "        loss_x = (x_hat - x)**2\n",
    "        loss_y = (y_hat - y)**2\n",
    "        loss_E = (E - E_aux)**2\n",
    "        loss_L = (L - L_aux)**2\n",
    "        \n",
    "        loss = (loss_x + loss_y + loss_E + loss_L).mean()\n",
    "        \n",
    "        return loss\n",
    "    \n",
    "    def validation_step(self, batch, batch_idx):\n",
    "        # Decompose Batch\n",
    "        X, g, _, _ = batch\n",
    "        x  = X[:,0:1]\n",
    "        y  = X[:,1:2]\n",
    "        vx = X[:,2:3]\n",
    "        vy = X[:,3:4]\n",
    "        \n",
    "        # Decompose First Output\n",
    "        ELTh = self._forward_features(X)\n",
    "        E    = ELTh[:,0:1]\n",
    "        L    = ELTh[:,1:2]\n",
    "        Th   = ELTh[:,2:3]\n",
    "        \n",
    "        # Obtain group indices\n",
    "        g_ics_vec = [g == i for i in range(self.group)]\n",
    "        \n",
    "        E_aux = torch.ones_like(E)\n",
    "        L_aux = torch.ones_like(L)\n",
    "        \n",
    "        for (g_ics, E_a, L_a) in zip(g_ics_vec, self.E, self.L):\n",
    "            E_aux[g_ics[:,0]] *= E_a\n",
    "            L_aux[g_ics[:,0]] *= L_a\n",
    "        \n",
    "        # Reconstruct position\n",
    "        R     = self.net2(ELTh)\n",
    "        x_hat = R * torch.cos(Th)\n",
    "        y_hat = R * torch.sin(Th)\n",
    "        \n",
    "#         # KL Divergence of original & reconstruct\n",
    "#         kl_loss = nn.KLDivLoss(log_target=True, reduction='batchmean')\n",
    "#         loss_x = kl_loss(F.log_softmax(x_hat), F.softmax(x))\n",
    "#         loss_y = kl_loss(F.log_softmax(y_hat), F.softmax(y))\n",
    "#         loss_E = kl_loss(F.log_softmax(E_aux), F.softmax(E))\n",
    "#         loss_L = kl_loss(F.log_softmax(L_aux), F.softmax(L))\n",
    "        loss_x = (x_hat - x)**2\n",
    "        loss_y = (y_hat - y)**2\n",
    "        loss_E = (E - E_aux)**2\n",
    "        loss_L = (L - L_aux)**2\n",
    "        \n",
    "        loss = (loss_x + loss_y + loss_E + loss_L).mean()\n",
    "        \n",
    "        self.log('val_loss', loss)\n",
    "        self.log('loss_x', loss_x.mean())\n",
    "        self.log('loss_y', loss_y.mean())\n",
    "        self.log('loss_E', loss_E.mean())\n",
    "        self.log('loss_L', loss_L.mean())\n",
    "        \n",
    "        for i, (g_ics, E_a, L_a) in enumerate(zip(g_ics_vec, self.E, self.L)):\n",
    "            E_mean = E[g_ics[:,0]].mean()\n",
    "            L_mean = L[g_ics[:,0]].mean()\n",
    "\n",
    "            self.log(f\"E_{i}\", E_mean)\n",
    "            self.log(f\"L_{i}\", L_mean)\n",
    "            self.log(f\"E_a_{i}\", E_a)\n",
    "            self.log(f\"L_a_{i}\", L_a)\n",
    "        \n",
    "        return loss\n",
    "    \n",
    "    def configure_optimizers(self):\n",
    "        optimizer = optim.Adam(\n",
    "            self.parameters(),\n",
    "            lr=self.lr\n",
    "        )\n",
    "        return {\n",
    "            \"optimizer\": optimizer,\n",
    "            \"lr_scheduler\": PolynomialLR(\n",
    "                optimizer,\n",
    "                total_iters=self.epoch,\n",
    "                power=2.0\n",
    "            )\n",
    "        }\n",
    "    \n",
    "    def prepare_data(self):\n",
    "        self.ds = ds\n",
    "        self.N = len(self.ds)\n",
    "        \n",
    "    def setup(self, stage=None):\n",
    "        N_train = self.N // 10 * 7\n",
    "        N_val = self.N - N_train\n",
    "        if stage == \"fit\" or stage is None:\n",
    "            self.ds_train, self.ds_val = random_split(self.ds, [N_train, N_val])\n",
    "        if stage == \"test\" or stage is None:\n",
    "            _, self.ds_test = random_split(self.ds, [N_train, N_val])\n",
    "            \n",
    "    def train_dataloader(self):\n",
    "        return DataLoader(self.ds_train, batch_size=self.batch)\n",
    "    \n",
    "    def val_dataloader(self):\n",
    "        return DataLoader(self.ds_val, batch_size=self.batch)\n",
    "    \n",
    "    def test_dataloader(self):\n",
    "        return DataLoader(self.ds_test, batch_size=self.batch)"
   ]
  },
  {
   "cell_type": "code",
   "execution_count": 12,
   "id": "40938917",
   "metadata": {},
   "outputs": [
    {
     "name": "stderr",
     "output_type": "stream",
     "text": [
      "Global seed set to 8407\n"
     ]
    },
    {
     "data": {
      "text/plain": [
       "8407"
      ]
     },
     "execution_count": 12,
     "metadata": {},
     "output_type": "execute_result"
    }
   ],
   "source": [
    "pl.seed_everything(8407)"
   ]
  },
  {
   "cell_type": "code",
   "execution_count": 13,
   "id": "6ee00612",
   "metadata": {},
   "outputs": [],
   "source": [
    "hparams = {\n",
    "    \"hidden_layer_1_nodes\": 64,\n",
    "    \"hidden_layer_1_depth\": 3,\n",
    "    \"hidden_layer_2_nodes\": 128,\n",
    "    \"hidden_layer_2_depth\": 3,\n",
    "    \"learning_rate\": 1e-2,\n",
    "    \"batch_size\": BATCH_SIZE,\n",
    "    \"E_init\": [-1.0, -1.0, -1.0, -1.0, -1.0],\n",
    "    \"L_init\": [0.5, 0.5, 0.5, 0.5, 0.5],\n",
    "    \"epoch\": 100\n",
    "}"
   ]
  },
  {
   "cell_type": "code",
   "execution_count": 14,
   "id": "aa785784",
   "metadata": {},
   "outputs": [],
   "source": [
    "model = ASNet(\n",
    "    hparams=hparams\n",
    ")"
   ]
  },
  {
   "cell_type": "code",
   "execution_count": 15,
   "id": "2cfd1438",
   "metadata": {},
   "outputs": [
    {
     "data": {
      "text/plain": [
       "ASNet(\n",
       "  (net1): Sequential(\n",
       "    (0): Linear(in_features=4, out_features=64, bias=True)\n",
       "    (1): ReLU(inplace=True)\n",
       "    (2): BatchNorm1d(64, eps=1e-05, momentum=0.1, affine=True, track_running_stats=True)\n",
       "    (3): Linear(in_features=64, out_features=64, bias=True)\n",
       "    (4): ReLU(inplace=True)\n",
       "    (5): BatchNorm1d(64, eps=1e-05, momentum=0.1, affine=True, track_running_stats=True)\n",
       "    (6): Linear(in_features=64, out_features=64, bias=True)\n",
       "    (7): ReLU(inplace=True)\n",
       "    (8): BatchNorm1d(64, eps=1e-05, momentum=0.1, affine=True, track_running_stats=True)\n",
       "    (9): Linear(in_features=64, out_features=64, bias=True)\n",
       "    (10): ReLU(inplace=True)\n",
       "    (11): BatchNorm1d(64, eps=1e-05, momentum=0.1, affine=True, track_running_stats=True)\n",
       "    (12): Linear(in_features=64, out_features=3, bias=True)\n",
       "  )\n",
       "  (net2): Sequential(\n",
       "    (0): Linear(in_features=3, out_features=128, bias=True)\n",
       "    (1): ReLU(inplace=True)\n",
       "    (2): BatchNorm1d(128, eps=1e-05, momentum=0.1, affine=True, track_running_stats=True)\n",
       "    (3): Linear(in_features=128, out_features=128, bias=True)\n",
       "    (4): ReLU(inplace=True)\n",
       "    (5): BatchNorm1d(128, eps=1e-05, momentum=0.1, affine=True, track_running_stats=True)\n",
       "    (6): Linear(in_features=128, out_features=128, bias=True)\n",
       "    (7): ReLU(inplace=True)\n",
       "    (8): BatchNorm1d(128, eps=1e-05, momentum=0.1, affine=True, track_running_stats=True)\n",
       "    (9): Linear(in_features=128, out_features=128, bias=True)\n",
       "    (10): ReLU(inplace=True)\n",
       "    (11): BatchNorm1d(128, eps=1e-05, momentum=0.1, affine=True, track_running_stats=True)\n",
       "    (12): Linear(in_features=128, out_features=1, bias=True)\n",
       "  )\n",
       ")"
      ]
     },
     "execution_count": 15,
     "metadata": {},
     "output_type": "execute_result"
    }
   ],
   "source": [
    "model"
   ]
  },
  {
   "cell_type": "code",
   "execution_count": 16,
   "id": "1e51330a",
   "metadata": {},
   "outputs": [
    {
     "name": "stderr",
     "output_type": "stream",
     "text": [
      "Failed to detect the name of this notebook, you can set it manually with the WANDB_NOTEBOOK_NAME environment variable to enable code saving.\n",
      "\u001b[34m\u001b[1mwandb\u001b[0m: Currently logged in as: \u001b[33maxect\u001b[0m. Use \u001b[1m`wandb login --relogin`\u001b[0m to force relogin\n"
     ]
    },
    {
     "data": {
      "text/html": [
       "wandb version 0.13.10 is available!  To upgrade, please run:\n",
       " $ pip install wandb --upgrade"
      ],
      "text/plain": [
       "<IPython.core.display.HTML object>"
      ]
     },
     "metadata": {},
     "output_type": "display_data"
    },
    {
     "data": {
      "text/html": [
       "Tracking run with wandb version 0.13.7"
      ],
      "text/plain": [
       "<IPython.core.display.HTML object>"
      ]
     },
     "metadata": {},
     "output_type": "display_data"
    },
    {
     "data": {
      "text/html": [
       "Run data is saved locally in <code>./wandb/run-20230216_002948-vf4dga36</code>"
      ],
      "text/plain": [
       "<IPython.core.display.HTML object>"
      ]
     },
     "metadata": {},
     "output_type": "display_data"
    },
    {
     "data": {
      "text/html": [
       "Syncing run <strong><a href=\"https://wandb.ai/axect/Auxiliary_Symmetry/runs/vf4dga36\" target=\"_blank\">fragrant-heart-8</a></strong> to <a href=\"https://wandb.ai/axect/Auxiliary_Symmetry\" target=\"_blank\">Weights & Biases</a> (<a href=\"https://wandb.me/run\" target=\"_blank\">docs</a>)<br/>"
      ],
      "text/plain": [
       "<IPython.core.display.HTML object>"
      ]
     },
     "metadata": {},
     "output_type": "display_data"
    },
    {
     "name": "stderr",
     "output_type": "stream",
     "text": [
      "/home/kavis/.local/lib/python3.10/site-packages/pytorch_lightning/trainer/connectors/accelerator_connector.py:441: LightningDeprecationWarning: Setting `Trainer(gpus=1)` is deprecated in v1.7 and will be removed in v2.0. Please use `Trainer(accelerator='gpu', devices=1)` instead.\n",
      "  rank_zero_deprecation(\n",
      "GPU available: True (cuda), used: True\n",
      "TPU available: False, using: 0 TPU cores\n",
      "IPU available: False, using: 0 IPUs\n",
      "HPU available: False, using: 0 HPUs\n"
     ]
    }
   ],
   "source": [
    "wandb_logger = WandbLogger(\n",
    "    project='Auxiliary_Symmetry'\n",
    ")\n",
    "\n",
    "trainer = Trainer(\n",
    "    logger=wandb_logger,\n",
    "    max_epochs=hparams[\"epoch\"],\n",
    "    gpus=AVAIL_GPUS,\n",
    "    enable_progress_bar=False,\n",
    "    callbacks=[\n",
    "        LearningRateMonitor(logging_interval=\"epoch\")\n",
    "    ]\n",
    ")"
   ]
  },
  {
   "cell_type": "code",
   "execution_count": 17,
   "id": "7ee57071",
   "metadata": {},
   "outputs": [
    {
     "name": "stderr",
     "output_type": "stream",
     "text": [
      "LOCAL_RANK: 0 - CUDA_VISIBLE_DEVICES: [0]\n",
      "\n",
      "  | Name | Type       | Params\n",
      "------------------------------------\n",
      "0 | net1 | Sequential | 13.5 K\n",
      "1 | net2 | Sequential | 51.2 K\n",
      "------------------------------------\n",
      "64.7 K    Trainable params\n",
      "0         Non-trainable params\n",
      "64.7 K    Total params\n",
      "0.259     Total estimated model params size (MB)\n",
      "/home/kavis/.local/lib/python3.10/site-packages/pytorch_lightning/trainer/connectors/data_connector.py:224: PossibleUserWarning: The dataloader, val_dataloader 0, does not have many workers which may be a bottleneck. Consider increasing the value of the `num_workers` argument` (try 32 which is the number of cpus on this machine) in the `DataLoader` init to improve performance.\n",
      "  rank_zero_warn(\n",
      "/home/kavis/.local/lib/python3.10/site-packages/pytorch_lightning/trainer/connectors/data_connector.py:224: PossibleUserWarning: The dataloader, train_dataloader, does not have many workers which may be a bottleneck. Consider increasing the value of the `num_workers` argument` (try 32 which is the number of cpus on this machine) in the `DataLoader` init to improve performance.\n",
      "  rank_zero_warn(\n",
      "`Trainer.fit` stopped: `max_epochs=100` reached.\n"
     ]
    }
   ],
   "source": [
    "trainer.fit(model)"
   ]
  },
  {
   "cell_type": "code",
   "execution_count": 18,
   "id": "e2561cc2",
   "metadata": {},
   "outputs": [
    {
     "data": {
      "text/plain": [
       "['./wandb/run-20230216_002948-vf4dga36/files/AuxSym_0.pth']"
      ]
     },
     "execution_count": 18,
     "metadata": {},
     "output_type": "execute_result"
    }
   ],
   "source": [
    "trainer.save_checkpoint('AuxSym_0.pth')\n",
    "wandb.save('AuxSym_0.pth')"
   ]
  },
  {
   "cell_type": "code",
   "execution_count": 19,
   "id": "f6d6385a",
   "metadata": {
    "scrolled": false
   },
   "outputs": [
    {
     "data": {
      "text/html": [
       "Waiting for W&B process to finish... <strong style=\"color:green\">(success).</strong>"
      ],
      "text/plain": [
       "<IPython.core.display.HTML object>"
      ]
     },
     "metadata": {},
     "output_type": "display_data"
    },
    {
     "data": {
      "application/vnd.jupyter.widget-view+json": {
       "model_id": "52ff2c53c10743d5a77de2582026e8b4",
       "version_major": 2,
       "version_minor": 0
      },
      "text/plain": [
       "VBox(children=(Label(value='0.801 MB of 0.811 MB uploaded (0.000 MB deduped)\\r'), FloatProgress(value=0.987479…"
      ]
     },
     "metadata": {},
     "output_type": "display_data"
    },
    {
     "data": {
      "text/html": [
       "<style>\n",
       "    table.wandb td:nth-child(1) { padding: 0 10px; text-align: left ; width: auto;} td:nth-child(2) {text-align: left ; width: 100%}\n",
       "    .wandb-row { display: flex; flex-direction: row; flex-wrap: wrap; justify-content: flex-start; width: 100% }\n",
       "    .wandb-col { display: flex; flex-direction: column; flex-basis: 100%; flex: 1; padding: 10px; }\n",
       "    </style>\n",
       "<div class=\"wandb-row\"><div class=\"wandb-col\"><h3>Run history:</h3><br/><table class=\"wandb\"><tr><td>E_0</td><td>▂▁▃▄▄▅▅▆▇▇▇▆▇▇▇▇▇▇▇▇▇▇▇█▇███████████████</td></tr><tr><td>E_1</td><td>▁▃▄▅▇▆▆▆▇▇▇█▇▇█▇█▇▇▇▇▇▇█▇███████████████</td></tr><tr><td>E_2</td><td>▁▆▄▂█▄▃▃▆█▅█▅▆▇▄▅▄▃▃▃▄▄▄▄▄▄▄▄▄▄▄▄▄▄▃▃▃▃▃</td></tr><tr><td>E_3</td><td>▃▃▅▁▆▅▃▆▆█▆█▅▆█▅▅▄▄▃▄▄▄▄▄▄▄▄▄▄▄▄▄▄▄▄▄▄▄▄</td></tr><tr><td>E_4</td><td>▁▁▃▄▄▅▅▆▆▇▇▇▇▇█▇▇▇▇▇▇▇▇█▇███████████████</td></tr><tr><td>E_a_0</td><td>▁▁▃▃▄▄▅▆▇▆▇▇▇▇▇▇▇▇▇▇▇▇▇█▇███████████████</td></tr><tr><td>E_a_1</td><td>▁▃▃▄▆▆▆▆▇▇▇█▇▇▇▇▇▇▇▇▇▇▇▇▇▇▇█████████████</td></tr><tr><td>E_a_2</td><td>▁▅▅▄▅▄▆▅▇█▆▇▆▆▇▅▆▅▅▅▅▅▅▅▅▅▅▅▅▅▅▅▅▅▅▅▅▅▅▅</td></tr><tr><td>E_a_3</td><td>▃▁▅▂▄▃▃▇▅█▆▆▅▅▇▅▅▄▄▃▃▄▄▄▄▄▄▄▄▄▄▄▄▄▄▄▄▄▄▄</td></tr><tr><td>E_a_4</td><td>▁▂▃▃▄▄▄▆▆▇▇▇▇▇▇▇▇▇▇▇▇▇▇▇▇███████████████</td></tr><tr><td>L_0</td><td>▇█▅▇█▆▇▂▃▂▂▁▁▂▄▁▂▁▂▁▁▁▁▂▂▂▂▂▂▂▂▂▂▂▂▂▂▂▂▂</td></tr><tr><td>L_1</td><td>██▇▇▆▆▆▃▃▃▂▁▂▂▃▂▂▃▃▂▃▃▃▃▃▃▃▃▃▂▃▃▃▃▃▃▃▃▃▃</td></tr><tr><td>L_2</td><td>█▅▆▅▄▄▃▃▂▂▂▁▂▁▂▂▂▂▂▂▂▂▂▂▂▂▂▂▂▂▂▂▂▂▂▂▂▂▂▂</td></tr><tr><td>L_3</td><td>▇▇█▇▇▇▅▁▃▃▄▁▃▂▄▂▃▃▂▂▃▂▂▃▂▂▂▂▂▂▂▂▂▂▂▂▃▃▃▃</td></tr><tr><td>L_4</td><td>▆█▅██▇█▂▃▃▂▁▂▃▄▂▃▃▃▃▃▃▃▃▃▃▃▃▃▃▃▃▃▃▃▃▄▄▄▄</td></tr><tr><td>L_a_0</td><td>▆█▅▆▆▅▅▂▂▃▂▁▁▁▄▁▂▁▂▁▂▂▂▂▂▂▂▂▂▂▂▂▂▂▂▂▂▂▂▂</td></tr><tr><td>L_a_1</td><td>▇█▇▇▆▅▅▃▃▃▂▁▂▂▃▂▂▂▂▂▂▂▂▂▂▂▂▂▂▂▂▂▂▂▂▂▂▂▂▂</td></tr><tr><td>L_a_2</td><td>█▅▅▅▄▄▄▂▂▂▂▁▁▁▂▁▁▁▁▁▁▁▁▁▁▁▁▁▁▁▁▁▁▁▁▁▁▁▁▁</td></tr><tr><td>L_a_3</td><td>█▆▇▅▇▇▆▁▄▃▃▂▂▂▂▂▂▂▂▂▂▁▁▁▁▁▁▁▁▁▁▁▂▂▂▂▂▂▂▂</td></tr><tr><td>L_a_4</td><td>▅█▅▇▆▆▆▁▂▃▁▁▂▂▃▂▂▂▂▂▂▃▃▃▃▂▃▃▃▂▃▃▃▃▃▃▃▃▃▃</td></tr><tr><td>epoch</td><td>▁▁▁▁▂▂▂▂▂▃▃▃▃▃▃▄▄▄▄▄▅▅▅▅▅▅▆▆▆▆▆▇▇▇▇▇▇███</td></tr><tr><td>loss_E</td><td>▆█▅▃▅▃▃▂▂▂▂▂▁▂▂▁▁▁▁▁▁▁▁▁▁▁▁▁▁▁▁▁▁▁▁▁▁▁▁▁</td></tr><tr><td>loss_L</td><td>█▅▆▄▅▃▅▅▄▃▄▄▃▃▄▂▂▂▂▂▂▂▁▁▁▁▁▁▁▁▁▁▁▁▁▁▁▁▁▁</td></tr><tr><td>loss_x</td><td>▅█▄▃▄▃▂▂▂▂▂▄▃▃▃▁▁▁▁▁▁▂▂▁▁▁▁▁▁▁▁▁▁▁▁▁▁▁▁▁</td></tr><tr><td>loss_y</td><td>▄█▂▃▅▄▂▂▃▁▄▅▃▂▄▂▁▁▁▁▁▂▁▁▁▁▁▁▁▁▁▁▁▁▁▁▁▁▁▁</td></tr><tr><td>lr-Adam</td><td>██▇▇▇▆▆▆▅▅▅▅▄▄▄▄▄▃▃▃▃▃▂▂▂▂▂▂▂▂▁▁▁▁▁▁▁▁▁▁</td></tr><tr><td>trainer/global_step</td><td>▁▁▁▁▂▂▂▂▂▃▃▃▃▃▃▄▄▄▄▄▅▅▅▅▅▅▆▆▆▆▆▇▇▇▇▇▇███</td></tr><tr><td>val_loss</td><td>▅█▃▃▄▃▂▂▂▂▃▅▃▃▃▂▁▁▁▁▁▂▂▁▁▁▁▁▁▁▁▁▁▁▁▁▁▁▁▁</td></tr></table><br/></div><div class=\"wandb-col\"><h3>Run summary:</h3><br/><table class=\"wandb\"><tr><td>E_0</td><td>-0.42703</td></tr><tr><td>E_1</td><td>-0.37628</td></tr><tr><td>E_2</td><td>-0.32818</td></tr><tr><td>E_3</td><td>-0.32212</td></tr><tr><td>E_4</td><td>-0.40886</td></tr><tr><td>E_a_0</td><td>-0.428</td></tr><tr><td>E_a_1</td><td>-0.37644</td></tr><tr><td>E_a_2</td><td>-0.32503</td></tr><tr><td>E_a_3</td><td>-0.3179</td></tr><tr><td>E_a_4</td><td>-0.40871</td></tr><tr><td>L_0</td><td>0.12988</td></tr><tr><td>L_1</td><td>0.12014</td></tr><tr><td>L_2</td><td>0.11677</td></tr><tr><td>L_3</td><td>0.11995</td></tr><tr><td>L_4</td><td>0.11712</td></tr><tr><td>L_a_0</td><td>0.13287</td></tr><tr><td>L_a_1</td><td>0.12134</td></tr><tr><td>L_a_2</td><td>0.11817</td></tr><tr><td>L_a_3</td><td>0.12119</td></tr><tr><td>L_a_4</td><td>0.11823</td></tr><tr><td>epoch</td><td>99</td></tr><tr><td>loss_E</td><td>0.00149</td></tr><tr><td>loss_L</td><td>0.00121</td></tr><tr><td>loss_x</td><td>0.02812</td></tr><tr><td>loss_y</td><td>0.01611</td></tr><tr><td>lr-Adam</td><td>0.0</td></tr><tr><td>trainer/global_step</td><td>13699</td></tr><tr><td>val_loss</td><td>0.04694</td></tr></table><br/></div></div>"
      ],
      "text/plain": [
       "<IPython.core.display.HTML object>"
      ]
     },
     "metadata": {},
     "output_type": "display_data"
    },
    {
     "data": {
      "text/html": [
       "Synced <strong style=\"color:#cdcd00\">fragrant-heart-8</strong>: <a href=\"https://wandb.ai/axect/Auxiliary_Symmetry/runs/vf4dga36\" target=\"_blank\">https://wandb.ai/axect/Auxiliary_Symmetry/runs/vf4dga36</a><br/>Synced 5 W&B file(s), 0 media file(s), 0 artifact file(s) and 1 other file(s)"
      ],
      "text/plain": [
       "<IPython.core.display.HTML object>"
      ]
     },
     "metadata": {},
     "output_type": "display_data"
    },
    {
     "data": {
      "text/html": [
       "Find logs at: <code>./wandb/run-20230216_002948-vf4dga36/logs</code>"
      ],
      "text/plain": [
       "<IPython.core.display.HTML object>"
      ]
     },
     "metadata": {},
     "output_type": "display_data"
    }
   ],
   "source": [
    "wandb.finish()"
   ]
  },
  {
   "cell_type": "markdown",
   "id": "c14d4b37",
   "metadata": {},
   "source": [
    "## Analysis"
   ]
  },
  {
   "cell_type": "code",
   "execution_count": 20,
   "id": "def45643",
   "metadata": {},
   "outputs": [],
   "source": [
    "model.eval()\n",
    "dl_total = DataLoader(ds, batch_size=BATCH_SIZE)"
   ]
  },
  {
   "cell_type": "code",
   "execution_count": 21,
   "id": "358e56ec",
   "metadata": {},
   "outputs": [],
   "source": [
    "def decoder(model, dl):\n",
    "    dl_iter = iter(dl)\n",
    "    X_init, g, _, _ = next(dl_iter)\n",
    "    g_ics_vec = [g == i for i in range(model.group)]\n",
    "    \n",
    "    ELTh = model._forward_features(X_init)\n",
    "    E = ELTh[:,0:1]\n",
    "    L = ELTh[:,1:2]\n",
    "    Th = ELTh[:,2:3]\n",
    "    \n",
    "    R = model.net2(ELTh)\n",
    "    x_hat = R * torch.cos(Th)\n",
    "    y_hat = R * torch.sin(Th)\n",
    "    \n",
    "    output_vec = [\n",
    "        torch.column_stack([\n",
    "            x_hat[g_ics[:,0]],\n",
    "            y_hat[g_ics[:,0]],\n",
    "            E[g_ics[:,0]],\n",
    "            L[g_ics[:,0]]\n",
    "        ]) for g_ics in g_ics_vec\n",
    "    ]\n",
    "    \n",
    "    for data in dl_iter:\n",
    "        X, g, _, _ = data\n",
    "        g_ics_vec = [g == i for i in range(model.group)]\n",
    "        ELTh = model._forward_features(X)\n",
    "        E = ELTh[:,0:1]\n",
    "        L = ELTh[:,1:2]\n",
    "        Th = ELTh[:,2:3]\n",
    "\n",
    "        R = model.net2(ELTh)\n",
    "        x_hat = R * torch.cos(Th)\n",
    "        y_hat = R * torch.sin(Th)\n",
    "        \n",
    "        output_vec = [\n",
    "            torch.concat([\n",
    "                a,\n",
    "                torch.column_stack([\n",
    "                    x_hat[g_ics[:,0]],\n",
    "                    y_hat[g_ics[:,0]],\n",
    "                    E[g_ics[:,0]],\n",
    "                    L[g_ics[:,0]]\n",
    "                ])\n",
    "            ]) for (a, g_ics) in zip(output_vec, g_ics_vec)\n",
    "        ]\n",
    "    return output_vec"
   ]
  },
  {
   "cell_type": "code",
   "execution_count": 22,
   "id": "a6dd1eec",
   "metadata": {},
   "outputs": [],
   "source": [
    "output_vec = decoder(model, dl_total)"
   ]
  },
  {
   "cell_type": "code",
   "execution_count": 24,
   "id": "38012ee1",
   "metadata": {},
   "outputs": [
    {
     "name": "stdout",
     "output_type": "stream",
     "text": [
      "torch.Size([10002, 4])\n",
      "torch.Size([10002, 4])\n",
      "torch.Size([10002, 4])\n",
      "torch.Size([10001, 4])\n",
      "torch.Size([10001, 4])\n"
     ]
    }
   ],
   "source": [
    "[print(output.shape) for output in output_vec];"
   ]
  },
  {
   "cell_type": "code",
   "execution_count": 28,
   "id": "d300fbc3",
   "metadata": {},
   "outputs": [],
   "source": [
    "X0 = output_vec[0].detach().numpy()"
   ]
  },
  {
   "cell_type": "code",
   "execution_count": 32,
   "id": "cf449efa",
   "metadata": {},
   "outputs": [
    {
     "data": {
      "image/png": "[encoded data removed]",
      "text/plain": [
       "<Figure size 640x480 with 1 Axes>"
      ]
     },
     "metadata": {},
     "output_type": "display_data"
    }
   ],
   "source": [
    "x_hat = X0[:,0]\n",
    "y_hat = X0[:,1]\n",
    "\n",
    "plt.plot(x_hat, y_hat)\n",
    "plt.show()"
   ]
  },
  {
   "cell_type": "code",
   "execution_count": 33,
   "id": "9b6f62ab",
   "metadata": {},
   "outputs": [
    {
     "data": {
      "image/png": "[encoded data removed]",
      "text/plain": [
       "<Figure size 640x480 with 1 Axes>"
      ]
     },
     "metadata": {},
     "output_type": "display_data"
    }
   ],
   "source": [
    "plt.plot(X0[:,2])\n",
    "plt.show()"
   ]
  },
  {
   "cell_type": "code",
   "execution_count": 34,
   "id": "ebfbb95a",
   "metadata": {},
   "outputs": [
    {
     "data": {
      "image/png": "[encoded data removed]",
      "text/plain": [
       "<Figure size 640x480 with 1 Axes>"
      ]
     },
     "metadata": {},
     "output_type": "display_data"
    }
   ],
   "source": [
    "plt.plot(X0[:,3])\n",
    "plt.show()"
   ]
  }
 ],
 "metadata": {
  "kernelspec": {
   "display_name": "Python 3 (ipykernel)",
   "language": "python",
   "name": "python3"
  },
  "language_info": {
   "codemirror_mode": {
    "name": "ipython",
    "version": 3
   },
   "file_extension": ".py",
   "mimetype": "text/x-python",
   "name": "python",
   "nbconvert_exporter": "python",
   "pygments_lexer": "ipython3",
   "version": "3.10.9"
  }
 },
 "nbformat": 4,
 "nbformat_minor": 5
}
